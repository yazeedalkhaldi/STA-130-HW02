{
 "cells": [
  {
   "cell_type": "markdown",
   "id": "b3885980",
   "metadata": {},
   "source": [
    "# 1. Begin (or restart) part \"3(a)\" of the TUT Demo and interact with a ChatBot to make sure you understand how each part the Monte Hall problem code above works"
   ]
  },
  {
   "cell_type": "markdown",
   "id": "4a9b4177",
   "metadata": {},
   "source": [
    "In simple terms,\n",
    "A contestant picks a door\n",
    "A door with a goat behind it is revealed\n",
    "The contestant can now pick another door if they want and always does\n",
    "The simulation shows that the contestants chance of winning increases to about 66.67%"
   ]
  },
  {
   "cell_type": "markdown",
   "id": "10e891b2",
   "metadata": {},
   "source": [
    "# 2. Extend your ChatBot sessions to now address part \"3(b)\" of the TUT Demo and interact with your ChatBot to see if it can suggest a simpler, more streamlined way to code up this for loop simulation so the process is more clear and easier to understand; then, describe any preferences you have in terms of readibility or explainability between the original code and the code improvements suggested by the ChatBot"
   ]
  },
  {
   "cell_type": "code",
   "execution_count": 1,
   "id": "cd3829ac",
   "metadata": {},
   "outputs": [
    {
     "data": {
      "text/plain": [
       "0.66399"
      ]
     },
     "execution_count": 1,
     "metadata": {},
     "output_type": "execute_result"
    }
   ],
   "source": [
    "import numpy as np\n",
    "\n",
    "# Initialize parameters\n",
    "doors = [1, 2, 3]  # List of doors\n",
    "initial_choice = 1  # Contestant always initially picks door 1\n",
    "win_count = 0\n",
    "num_simulations = 100000\n",
    "\n",
    "# Simulation loop\n",
    "for _ in range(num_simulations):\n",
    "    # Randomly assign the car behind one of the doors\n",
    "    winning_door = np.random.choice(doors)\n",
    "    \n",
    "    # Host reveals a goat door that is neither the winning door nor the contestant's choice\n",
    "    goat_doors = [door for door in doors if door != winning_door and door != initial_choice]\n",
    "    host_reveal = np.random.choice(goat_doors)\n",
    "    \n",
    "    # Contestant switches to the other remaining door\n",
    "    remaining_door = [door for door in doors if door != initial_choice and door != host_reveal][0]\n",
    "    \n",
    "    # Check if the contestant wins after switching\n",
    "    if remaining_door == winning_door:\n",
    "        win_count += 1\n",
    "\n",
    "# Calculate win percentage\n",
    "win_percentage = win_count / num_simulations\n",
    "win_percentage\n"
   ]
  },
  {
   "cell_type": "markdown",
   "id": "879ed938",
   "metadata": {},
   "source": [
    "For Readibility the newer code is shorter, easier to understand and interpert, and avoids complicated steps\n",
    "As for the Explainability it focuses directly on the contestant's choice without any manipulation of the lists. But for new learners, the old code would be better as it is a step by step explanation of how the code works while this new code is summarized and more efficient"
   ]
  },
  {
   "cell_type": "markdown",
   "id": "5930088b",
   "metadata": {},
   "source": [
    "# 3. Submit your preferred version of the Monty Hall problem that is verified to be running and working with a final printed output of the code; then, add code comments explaining the purpose of each line of the code"
   ]
  },
  {
   "cell_type": "code",
   "execution_count": 2,
   "id": "686488b0",
   "metadata": {},
   "outputs": [
    {
     "data": {
      "text/plain": [
       "0.66781"
      ]
     },
     "execution_count": 2,
     "metadata": {},
     "output_type": "execute_result"
    }
   ],
   "source": [
    "import numpy as np\n",
    "\n",
    "# Initial parameters of the code which is the number of doors\n",
    "doors = [1, 2, 3]  # List for the number of doors\n",
    "initial_choice = 1  # Contestant usually always picks door 1\n",
    "win_count = 0  # The contestant didnt pick the right door, so the win counter stayed at 0\n",
    "num_simulations = 100000  # Number of simulations that can occur are 100000\n",
    "\n",
    "# Loop of the simulation\n",
    "for _ in range(num_simulations):\n",
    "    # Puts car behind one of the doors at random\n",
    "    winning_door = np.random.choice(doors)\n",
    "    \n",
    "    # The game/host openes a door that is neither what  the contestant picked or the one that has the car behind it and shows a goat\n",
    "    goat_doors = [door for door in doors if door != winning_door and door != initial_choice]\n",
    "    host_reveal = np.random.choice(goat_doors)\n",
    "    \n",
    "    # The contestant changes their door \n",
    "    remaining_door = [door for door in doors if door != initial_choice and door != host_reveal][0]\n",
    "    \n",
    "    # If clause that checks if the contestant picked the door with the car behind it and increments the win count by 1\n",
    "    if remaining_door == winning_door:\n",
    "        win_count += 1\n",
    "\n",
    "# Calculates the win percentage and then  prints it\n",
    "win_percentage = win_count / num_simulations\n",
    "win_percentage\n"
   ]
  },
  {
   "cell_type": "markdown",
   "id": "ad5bf58f",
   "metadata": {},
   "source": [
    "(All my comments are in the code and i summarized each group of comments in one line abouve the group of code)"
   ]
  },
  {
   "cell_type": "markdown",
   "id": "533314a7",
   "metadata": {},
   "source": [
    "# 4. Watch the embedded video tutorial on Markov chains in the next Jupyter cell below to understand their application and relevance for ChatBots; then, after watching the video, start a new ChatBot session by prompting that you have code that creates a \"Markovian ChatBot\"; show it the first version of the \"Markovian ChatBot code\" below; and interact with the ChatBot session to make sure you understand how the original first version of the \"Markovian ChatBot code\" works"
   ]
  },
  {
   "cell_type": "code",
   "execution_count": 3,
   "id": "575e4255",
   "metadata": {},
   "outputs": [
    {
     "name": "stdout",
     "output_type": "stream",
     "text": [
      "Markovian ChatBot says:\n",
      "predicting sequences, like text generation in chatbots. By learning patterns\n"
     ]
    }
   ],
   "source": [
    "import random\n",
    "from collections import defaultdict\n",
    "\n",
    "class MarkovianChatBot:\n",
    "    def __init__(self, corpus):\n",
    "        self.corpus = corpus\n",
    "        self.model = self.build_markov_chain(corpus)\n",
    "    \n",
    "    def build_markov_chain(self, corpus):\n",
    "        words = corpus.split()\n",
    "        markov_chain = defaultdict(list)\n",
    "        \n",
    "        for i in range(len(words) - 1):\n",
    "            current_word = words[i]\n",
    "            next_word = words[i + 1]\n",
    "            markov_chain[current_word].append(next_word)\n",
    "        \n",
    "        return markov_chain\n",
    "    \n",
    "    def generate_sentence(self, length=10):\n",
    "        word = random.choice(list(self.model.keys()))\n",
    "        sentence = [word]\n",
    "        \n",
    "        for _ in range(length - 1):\n",
    "            word = random.choice(self.model[word])\n",
    "            sentence.append(word)\n",
    "        \n",
    "        return ' '.join(sentence)\n",
    "\n",
    "# Example Usage\n",
    "corpus = \"\"\"\n",
    "Markov chains are simple statistical models that transition from one state to another.\n",
    "They are useful in predicting sequences, like text generation in chatbots.\n",
    "By learning patterns from a given text, Markovian ChatBots can generate somewhat coherent sentences.\n",
    "\"\"\"\n",
    "\n",
    "chatbot = MarkovianChatBot(corpus)\n",
    "\n",
    "# Generating a sentence\n",
    "print(\"Markovian ChatBot says:\")\n",
    "print(chatbot.generate_sentence(length=10))\n"
   ]
  },
  {
   "cell_type": "markdown",
   "id": "602f7567",
   "metadata": {},
   "source": [
    "How it works is that say we have a dictionary of all the words as keys and other words that may have a chance of coming after the \"key\" word. Then the code starts out with a random word and picks other random words that foloow the Markov chain and continues on until a specific length of a sentence is made."
   ]
  },
  {
   "cell_type": "markdown",
   "id": "ccc7780e",
   "metadata": {},
   "source": [
    "# 5. Recreate (or resume) the previous ChatBot session from question \"4\" above, and now prompt the ChatBot session that you have a couple extensions of the code to show it, and then show it each of the extentions of the \"Markovian ChatBot code\" below in turn"
   ]
  },
  {
   "cell_type": "markdown",
   "id": "cc3b7997",
   "metadata": {},
   "source": [
    "## 1. Without just supplying your ChatBot session with the answers, see if the ChatBot can figure out what the extensions in the code do; namely, making character specific Markov chains, and using bigrams (rather than just the previous word alone) dependency... prompt your ChatBot session with some hints if it's not seeming to \"get it\""
   ]
  },
  {
   "cell_type": "markdown",
   "id": "ec80e463",
   "metadata": {},
   "source": [
    "This is what Chat GPT came up with\n",
    "\"This code is an extension to the original \"Markovian ChatBot\" model, adding complexity by tracking transitions between pairs of words (bi-grams) instead of individual words (uni-grams). This improves the coherence of the generated sentences because it considers the last two words when choosing the next one, making the transitions between words smoother.\""
   ]
  },
  {
   "cell_type": "markdown",
   "id": "926297ef",
   "metadata": {},
   "source": [
    "## 2. Interact with your ChatBot session to have it explain details of the code wherever you need help understanding what the code is doing and how it works\n"
   ]
  },
  {
   "cell_type": "markdown",
   "id": "af77c373",
   "metadata": {},
   "source": [
    "I understand what the code does."
   ]
  },
  {
   "cell_type": "markdown",
   "id": "9ec92667",
   "metadata": {},
   "source": [
    "## 3. Start yet another new ChatBot session and first show the ChatBot the original \"Markovian ChatBot code\" below, and then tell ChatBot that you have an extension but this time just directly provide it the more complicated final extension without ever providing the intermediate extension code to the ChatBot session and see if it's still able to understand everything extension does; namely, making character specific Markov chains, and using bigrams (rather than just the previous word alone) dependency... prompt the ChatBot with some hints if it's not seeming to understand what you're getting at..."
   ]
  },
  {
   "cell_type": "markdown",
   "id": "a74322cf",
   "metadata": {},
   "source": [
    "This is what Chat GPT came up with \n",
    "\"Character-specific Transitions: The code separates transitions for each character. This would be useful for analyzing distinct language patterns or speech patterns associated with each character.\n",
    "Bigrams and Triplets: By looking at pairs of words and what comes next, the model gets a more nuanced understanding of word flow, rather than just single-word transitions.\n",
    "Nested Structure: The code uses deeply nested dictionaries to handle the complexity of bigrams and triplet transitions.\""
   ]
  },
  {
   "cell_type": "markdown",
   "id": "d39ab10b",
   "metadata": {},
   "source": [
    "# 6. Report on your experience interacting with ChatBots to understand the Monte Hall problem and \"Markovian ChatBot\" code"
   ]
  },
  {
   "cell_type": "markdown",
   "id": "1a3e866c",
   "metadata": {},
   "source": [
    "## 1. Discuss how quickly the ChatBot was able to be helpful for each of the above questions, and if so, how?"
   ]
  },
  {
   "cell_type": "markdown",
   "id": "f3d4cead",
   "metadata": {},
   "source": [
    "Yes, ChatBot got me detailed answers of each question with code and breif explenation of each line of code. It alsso summarized all of its long answers for me."
   ]
  },
  {
   "cell_type": "markdown",
   "id": "93d2495b",
   "metadata": {},
   "source": [
    "## 2. Discuss whether or not interacting with ChatBot to try to figure things out was frustrating or unhelpful, and if so, how?"
   ]
  },
  {
   "cell_type": "markdown",
   "id": "ae144c52",
   "metadata": {},
   "source": [
    "Its not frustrating because it gave me a direct answer to every question i asked it and didnt give me off-topic answers."
   ]
  },
  {
   "cell_type": "markdown",
   "id": "30c634f7",
   "metadata": {},
   "source": [
    "## 3. Based on your experiences to date (e.g., including using ChatBots to troubleshoot coding errors in the previous homework), provide an overall assessment evaluating the usefulness of ChatBots as tools to help you understand code"
   ]
  },
  {
   "cell_type": "markdown",
   "id": "03630795",
   "metadata": {},
   "source": [
    "The chatbot gave me detailed explenation of every code i gave it. it broke down the code and explained it line by line to help me understand it even more."
   ]
  },
  {
   "cell_type": "markdown",
   "id": "fd83b5f3",
   "metadata": {},
   "source": [
    "# 7. Reflect on your experience interacting with ChatBot and describe how your perception of AI-driven assistance tools in the context of learning coding, statistics, and data science has been evolving (or not) since joining the course"
   ]
  },
  {
   "cell_type": "markdown",
   "id": "86b63855",
   "metadata": {},
   "source": [
    "AI-driven assistance tools help with learning coding, statistics, and data science more than any other tool out there. It gives detailed explenation for codes, asses and troubleshoots isuues in data and statistics, and overall is very helpful in data science."
   ]
  },
  {
   "cell_type": "markdown",
   "id": "a35119c9",
   "metadata": {},
   "source": [
    "# 8. ChatBots consume text data available on the web or platforms, and thus represents a new way to \"search consensensus\" that condenses and summarizes mainstream human thought"
   ]
  },
  {
   "cell_type": "markdown",
   "id": "c6d2487f",
   "metadata": {},
   "source": [
    "## 1. Start a new ChatBot session and discuss the relevance of learning and adaptability, communication, coding, and statistics and data analysis as skills in the modern world, especially with respect to career opportunities (particularly in the context of the data science industry)"
   ]
  },
  {
   "cell_type": "markdown",
   "id": "44a39953",
   "metadata": {},
   "source": [
    "Learning and adaptability would be for getting used to new technologies and trends.\n",
    "Communication helps with the back and forth of steakholders and business owners about the data analysis.\n",
    "Coding is a big part in working with data and algorithms.\n",
    "Statistics and Data Analysis is for testing hypothesis and data-based decisions."
   ]
  },
  {
   "cell_type": "markdown",
   "id": "1acbbeaa",
   "metadata": {},
   "source": [
    "## 2. See if ChatBot thinks you could be a statistician or data scientist without coding or doing data analysis, and then transition your ChatBot conversation into a career exploration discussion, using the ChatBot to identify the skills that might be the most valuable for a career that you're interested"
   ]
  },
  {
   "cell_type": "markdown",
   "id": "cdb09325",
   "metadata": {},
   "source": [
    "You can be a Statistician without coding or data analysis because you can work on theoretical statistics and designing experiments and models without coding. Then you can use the help of a data scientist to implement your work in their code.\n",
    "Data science without coding would be very hard because its a coding language dependant job, although some parts of being a data scientist that focus on interpreting data designs require less coding."
   ]
  },
  {
   "cell_type": "markdown",
   "id": "91cebba1",
   "metadata": {},
   "source": [
    "## 3. Ask for a summary of this ChatBot session and paste it into your homework notebook (including link(s) to chat log histories if you're using ChatBot)"
   ]
  },
  {
   "cell_type": "markdown",
   "id": "bb017559",
   "metadata": {},
   "source": [
    "\"In this chat, we discussed whether it’s possible to pursue a career as a statistician or data scientist without coding or doing data analysis. While coding is fundamental for most data science roles, a statistician could potentially focus on the theoretical aspects without coding, and a data scientist could focus on interpreting data insights in a more strategic or consultative role.\n",
    "\n",
    "We then transitioned to a career exploration discussion, where we began looking at how skills like coding, data analysis, and statistics play into different roles in the data science field.\""
   ]
  },
  {
   "cell_type": "markdown",
   "id": "e90412d4",
   "metadata": {},
   "source": [
    "## 4. Paraphrase the assessments and conclusions of your conversation in the form of a reflection on your current thoughts regarding your potential future career(s) and how you can go about building the skills you need to pursue it"
   ]
  },
  {
   "cell_type": "markdown",
   "id": "cd0bd9b9",
   "metadata": {},
   "source": [
    "From what i talked about with the ChatBot about Statistics and Data Science with coding or not; I understood that coding is very important to these two jobs but not critical. So, I can do at least do one of these two jobs without using code and still be able to work. The skills I need to build are data analysis and interpreting data, which I can build over time and hopefully work as a Data Scientist."
   ]
  },
  {
   "cell_type": "markdown",
   "id": "51fcb530",
   "metadata": {},
   "source": [
    "## 5. Give your thoughts regarding the helpfulness or limitations of your conversation with a ChatBot, and describe the next steps you would take to pursue this conversation further if you felt the information the ChatBot provides was somewhat high level and general, and perhaps lacked the depth and detailed knowledge of a dedicated subject matter expert who had really take the time to understand the ins and outs of the industry and career path in question."
   ]
  },
  {
   "cell_type": "markdown",
   "id": "52c9fd60",
   "metadata": {},
   "source": [
    "The conversations with the chatbot were very helpful and didnt lack anything and wasnt overcomplicated whatsoever. If soem people found that having a conversation with a chatbot is hard to understand, they can simply ask the chatbot to paraphrase iit and summarize in whatever way that makes them comfortable."
   ]
  },
  {
   "cell_type": "markdown",
   "id": "71c7a8b5",
   "metadata": {},
   "source": [
    "# 9. Have you reviewed the course wiki-textbook and interacted with a ChatBot (or, if that wasn't sufficient, real people in the course piazza discussion board or TA office hours) to help you understand all the material in the tutorial and lecture that you didn't quite follow when you first saw it?"
   ]
  },
  {
   "cell_type": "markdown",
   "id": "be804e42",
   "metadata": {},
   "source": [
    "Yes"
   ]
  },
  {
   "cell_type": "markdown",
   "id": "906c609d",
   "metadata": {},
   "source": [
    "# Chat GPT chat summaries "
   ]
  },
  {
   "cell_type": "markdown",
   "id": "54fe66b0",
   "metadata": {},
   "source": [
    "In this conversation, you asked about understanding a Markovian ChatBot and its implementation. I provided a basic version of the chatbot, which uses a Markov chain to generate sentences by transitioning between words based on probabilities. You then asked for an explanation of an extended version of the chatbot, which tracks transitions between pairs of words (bi-grams) for more coherent sentence generation. I explained how this extension improves the chatbot by considering pairs of words when determining the next word in a sentence, making the transitions smoother and more context-aware."
   ]
  },
  {
   "cell_type": "markdown",
   "id": "04e3282d",
   "metadata": {},
   "source": [
    "You shared two pieces of code related to a Markov chain chatbot, and I explained them in detail.\n",
    "\n",
    "1. Initial Markov Chain Code: The first code tracks single-word transitions in a list of words. I suggested a refactor using defaultdict to simplify the code by avoiding manual checks for whether a word or transition already exists.\n",
    "\n",
    "2. Extended Markov Chain Code: The second code is more complex, involving a dataset of characters. It tracks transitions between bigrams (word pairs) and the word that follows, while associating transitions with specific characters. The code uses nested dictionaries to handle bigram and triplet transitions for each character, allowing a more nuanced prediction based on both word sequences and characters."
   ]
  },
  {
   "cell_type": "markdown",
   "id": "5895bfd0",
   "metadata": {},
   "source": [
    "In this chat, we discussed whether it’s possible to pursue a career as a statistician or data scientist without coding or doing data analysis. While coding is fundamental for most data science roles, a statistician could potentially focus on the theoretical aspects without coding, and a data scientist could focus on interpreting data insights in a more strategic or consultative role.\n",
    "\n",
    "We then transitioned to a career exploration discussion, where we began looking at how skills like coding, data analysis, and statistics play into different roles in the data science field."
   ]
  }
 ],
 "metadata": {
  "kernelspec": {
   "display_name": "Python 3 (ipykernel)",
   "language": "python",
   "name": "python3"
  },
  "language_info": {
   "codemirror_mode": {
    "name": "ipython",
    "version": 3
   },
   "file_extension": ".py",
   "mimetype": "text/x-python",
   "name": "python",
   "nbconvert_exporter": "python",
   "pygments_lexer": "ipython3",
   "version": "3.11.6"
  }
 },
 "nbformat": 4,
 "nbformat_minor": 5
}
